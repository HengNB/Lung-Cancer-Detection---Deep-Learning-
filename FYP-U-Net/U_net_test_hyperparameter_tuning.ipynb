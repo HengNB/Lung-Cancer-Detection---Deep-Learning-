{
  "cells": [
    {
      "cell_type": "code",
      "execution_count": null,
      "metadata": {
        "colab": {
          "base_uri": "https://localhost:8080/"
        },
        "id": "hkeoRVtySqeA",
        "outputId": "3f0bdd35-092f-4a58-ca8c-6f2288fc764d"
      },
      "outputs": [
        {
          "output_type": "stream",
          "name": "stdout",
          "text": [
            "Mounted at /content/drive\n"
          ]
        }
      ],
      "source": [
        "from google.colab import drive\n",
        "drive.mount('/content/drive')"
      ]
    },
    {
      "cell_type": "code",
      "execution_count": null,
      "metadata": {
        "id": "8uYiRAJlSwKl"
      },
      "outputs": [],
      "source": [
        "import numpy as np\n",
        "import matplotlib.pyplot as plt\n",
        "import cv2\n",
        "import h5py\n",
        "import tensorflow as tf\n",
        "from tensorflow import keras\n",
        "\n",
        "\n",
        "from tensorflow import keras\n",
        "from keras.models import Model, load_model\n",
        "from keras.layers import Input, Conv2D, MaxPooling2D, UpSampling2D, Dropout, concatenate\n",
        "from keras.optimizers import Adam\n",
        "from keras import backend as K\n",
        "from keras.optimizers import SGD\n",
        "from keras.callbacks import ModelCheckpoint, LearningRateScheduler\n",
        "from keras.callbacks import *\n",
        "from keras import initializers\n",
        "from keras.layers import BatchNormalization\n",
        "\n",
        "from sklearn.metrics import accuracy_score, precision_score, recall_score, f1_score\n",
        "from sklearn.metrics import classification_report\n"
      ]
    },
    {
      "cell_type": "code",
      "execution_count": null,
      "metadata": {
        "id": "CIECxcwaSxUm"
      },
      "outputs": [],
      "source": [
        "def data_generator(imgs, masks, batch_size=1):\n",
        "    num_samples = len(imgs)\n",
        "    while True:\n",
        "        indices = np.random.choice(num_samples, batch_size, replace=False)\n",
        "        batch_imgs = imgs[indices]\n",
        "        batch_masks = masks[indices]\n",
        "        yield batch_imgs, batch_masks"
      ]
    },
    {
      "cell_type": "code",
      "execution_count": null,
      "metadata": {
        "id": "djCmhELnS0cO"
      },
      "outputs": [],
      "source": [
        "def dice_coef(y_true, y_pred):\n",
        "    y_true = K.flatten(y_true)\n",
        "    y_pred = K.flatten(y_pred)\n",
        "    smooth = 0.\n",
        "    intersection = K.sum(y_true * y_pred)\n",
        "    return (2. * intersection + smooth) / (K.sum(y_true) + K.sum(y_pred) + smooth)\n",
        "\n",
        "def dice_coefficient(y_true, y_pred):\n",
        "    smooth = 1.0\n",
        "\n",
        "    # Flatten the true and predicted masks\n",
        "    y_true_flat = tf.keras.backend.flatten(y_true)\n",
        "    y_pred_flat = tf.keras.backend.flatten(y_pred)\n",
        "\n",
        "    intersection = tf.keras.backend.sum(y_true_flat * y_pred_flat)\n",
        "    dice_coeff_class_0 = (2.0 * intersection + smooth) / (tf.keras.backend.sum(y_true_flat) + tf.keras.backend.sum(y_pred_flat) + smooth)\n",
        "\n",
        "    y_true_class_1 = 1 - y_true\n",
        "    y_pred_class_1 = 1 - y_pred\n",
        "\n",
        "    y_true_flat_class_1 = tf.keras.backend.flatten(y_true_class_1)\n",
        "    y_pred_flat_class_1 = tf.keras.backend.flatten(y_pred_class_1)\n",
        "\n",
        "    intersection_class_1 = tf.keras.backend.sum(y_true_flat_class_1 * y_pred_flat_class_1)\n",
        "    dice_coeff_class_1 = (2.0 * intersection_class_1 + smooth) / (tf.keras.backend.sum(y_true_flat_class_1) + tf.keras.backend.sum(y_pred_flat_class_1) + smooth)\n",
        "\n",
        "    # Calculate the mean of both Dice coefficients\n",
        "    dice_coefficient = (dice_coeff_class_0 + dice_coeff_class_1) / 2.0\n",
        "    return dice_coefficient\n",
        "\n",
        "def weighted_dice_coef_loss(y_true, y_pred):\n",
        "\n",
        "    return 1.0 - dice_coef(y_true, y_pred)\n",
        "\n"
      ]
    },
    {
      "cell_type": "code",
      "execution_count": null,
      "metadata": {
        "id": "fWap7c9KS7Pm"
      },
      "outputs": [],
      "source": [
        "def get_unet_small():\n",
        "    inputs = Input((512,512,1))\n",
        "    conv1 = Conv2D(32, (3, 3), activation='elu', padding='same')(inputs)\n",
        "    conv1 = Dropout(0.2)(conv1)\n",
        "    conv1 = Conv2D(32, (3, 3), activation='elu',padding='same', name='conv_1')(conv1)\n",
        "    pool1 = MaxPooling2D(pool_size=(2, 2), name='pool_1')(conv1)\n",
        "    pool1 = BatchNormalization()(pool1)\n",
        "\n",
        "    conv2 = Conv2D(64, (3, 3), activation='elu',padding='same')(pool1)\n",
        "    conv2 = Dropout(0.2)(conv2)\n",
        "    conv2 = Conv2D(64, (3, 3), activation='elu',padding='same', name='conv_2')(conv2)\n",
        "    pool2 = MaxPooling2D(pool_size=(2, 2), name='pool_2')(conv2)\n",
        "    pool2 = BatchNormalization()(pool2)\n",
        "\n",
        "    conv3 = Conv2D(128, (3, 3), activation='elu',padding='same')(pool2)\n",
        "    conv3 = Dropout(0.2)(conv3)\n",
        "    conv3 = Conv2D(128, (3, 3), activation='elu',padding='same', name='conv_3')(conv3)\n",
        "    pool3 = MaxPooling2D(pool_size=(2, 2), name='pool_3')(conv3)\n",
        "    pool3 = BatchNormalization()(pool3)\n",
        "\n",
        "    conv4 = Conv2D(256, (3, 3), activation='elu',padding='same')(pool3)\n",
        "    conv4 = Dropout(0.2)(conv4)\n",
        "    conv4 = Conv2D(256, (3, 3), activation='elu',padding='same', name='conv_4')(conv4)\n",
        "    conv4 = BatchNormalization()(conv4)\n",
        "\n",
        "    up7 = concatenate([UpSampling2D(size=(2, 2))(conv4), conv3],axis = 3)\n",
        "    conv7 = Conv2D(128, (3, 3), activation='elu',padding='same')(up7)\n",
        "    conv7 = Dropout(0.2)(conv7)\n",
        "    conv7 = Conv2D(128, (3, 3), activation='elu',padding='same', name='conv_7')(conv7)\n",
        "    conv7 = BatchNormalization()(conv7)\n",
        "\n",
        "    #up8 = merge([UpSampling2D(size=(2, 2))(conv7), conv2], mode='concat', concat_axis=1)\n",
        "    up8 = concatenate([UpSampling2D(size=(2, 2))(conv7), conv2],axis = 3)\n",
        "    conv8 = Conv2D(64, (3, 3), activation='elu',padding='same')(up8)\n",
        "    conv8 = Dropout(0.2)(conv8)\n",
        "    conv8 = Conv2D(64, (3, 3), activation='elu',padding='same', name='conv_8')(conv8)\n",
        "    conv8 = BatchNormalization()(conv8)\n",
        "\n",
        "    #up9 = merge([UpSampling2D(size=(2, 2))(conv8), conv1], mode='concat', concat_axis=1)\n",
        "    up9 = concatenate([UpSampling2D(size=(2, 2))(conv8), conv1],axis = 3)\n",
        "    conv9 = Conv2D(32, (3, 3), activation='elu',padding='same')(up9)\n",
        "    conv9 = Dropout(0.2)(conv9)\n",
        "    conv9 = Conv2D(32, (3, 3), activation='elu',padding='same', name='conv_9')(conv9)\n",
        "    conv9 = BatchNormalization()(conv9)\n",
        "\n",
        "    conv10 = Conv2D(1, (1, 1), activation='sigmoid', name='sigmoid')(conv9)\n",
        "\n",
        "    model = Model(inputs=inputs, outputs=conv10)\n",
        "    model.summary()\n",
        "    # Compile the model with the custom loss function and optimizer\n",
        "\n",
        "    model.compile(optimizer='adam', loss=weighted_dice_coef_loss, metrics=[dice_coefficient])\n",
        "\n",
        "    optimizer = Adam(learning_rate=0.00016815389884367667)\n",
        "    model.compile(optimizer=optimizer, loss=weighted_dice_coef_loss, metrics=['accuracy', dice_coefficient])\n",
        "\n",
        "    return model"
      ]
    },
    {
      "cell_type": "code",
      "source": [
        "model = get_unet_small()\n",
        "model.save(\"/content/drive/MyDrive/LUNA16/u_net_ori.h5\")"
      ],
      "metadata": {
        "colab": {
          "base_uri": "https://localhost:8080/"
        },
        "id": "K7Tnf5cbTY0S",
        "outputId": "1c49fd16-afd6-4200-b756-d9f17801d77b"
      },
      "execution_count": null,
      "outputs": [
        {
          "output_type": "stream",
          "name": "stdout",
          "text": [
            "Model: \"model\"\n",
            "__________________________________________________________________________________________________\n",
            " Layer (type)                Output Shape                 Param #   Connected to                  \n",
            "==================================================================================================\n",
            " input_1 (InputLayer)        [(None, 512, 512, 1)]        0         []                            \n",
            "                                                                                                  \n",
            " conv2d (Conv2D)             (None, 512, 512, 32)         320       ['input_1[0][0]']             \n",
            "                                                                                                  \n",
            " dropout (Dropout)           (None, 512, 512, 32)         0         ['conv2d[0][0]']              \n",
            "                                                                                                  \n",
            " conv_1 (Conv2D)             (None, 512, 512, 32)         9248      ['dropout[0][0]']             \n",
            "                                                                                                  \n",
            " pool_1 (MaxPooling2D)       (None, 256, 256, 32)         0         ['conv_1[0][0]']              \n",
            "                                                                                                  \n",
            " batch_normalization (Batch  (None, 256, 256, 32)         128       ['pool_1[0][0]']              \n",
            " Normalization)                                                                                   \n",
            "                                                                                                  \n",
            " conv2d_1 (Conv2D)           (None, 256, 256, 64)         18496     ['batch_normalization[0][0]'] \n",
            "                                                                                                  \n",
            " dropout_1 (Dropout)         (None, 256, 256, 64)         0         ['conv2d_1[0][0]']            \n",
            "                                                                                                  \n",
            " conv_2 (Conv2D)             (None, 256, 256, 64)         36928     ['dropout_1[0][0]']           \n",
            "                                                                                                  \n",
            " pool_2 (MaxPooling2D)       (None, 128, 128, 64)         0         ['conv_2[0][0]']              \n",
            "                                                                                                  \n",
            " batch_normalization_1 (Bat  (None, 128, 128, 64)         256       ['pool_2[0][0]']              \n",
            " chNormalization)                                                                                 \n",
            "                                                                                                  \n",
            " conv2d_2 (Conv2D)           (None, 128, 128, 128)        73856     ['batch_normalization_1[0][0]'\n",
            "                                                                    ]                             \n",
            "                                                                                                  \n",
            " dropout_2 (Dropout)         (None, 128, 128, 128)        0         ['conv2d_2[0][0]']            \n",
            "                                                                                                  \n",
            " conv_3 (Conv2D)             (None, 128, 128, 128)        147584    ['dropout_2[0][0]']           \n",
            "                                                                                                  \n",
            " pool_3 (MaxPooling2D)       (None, 64, 64, 128)          0         ['conv_3[0][0]']              \n",
            "                                                                                                  \n",
            " batch_normalization_2 (Bat  (None, 64, 64, 128)          512       ['pool_3[0][0]']              \n",
            " chNormalization)                                                                                 \n",
            "                                                                                                  \n",
            " conv2d_3 (Conv2D)           (None, 64, 64, 256)          295168    ['batch_normalization_2[0][0]'\n",
            "                                                                    ]                             \n",
            "                                                                                                  \n",
            " dropout_3 (Dropout)         (None, 64, 64, 256)          0         ['conv2d_3[0][0]']            \n",
            "                                                                                                  \n",
            " conv_4 (Conv2D)             (None, 64, 64, 256)          590080    ['dropout_3[0][0]']           \n",
            "                                                                                                  \n",
            " batch_normalization_3 (Bat  (None, 64, 64, 256)          1024      ['conv_4[0][0]']              \n",
            " chNormalization)                                                                                 \n",
            "                                                                                                  \n",
            " up_sampling2d (UpSampling2  (None, 128, 128, 256)        0         ['batch_normalization_3[0][0]'\n",
            " D)                                                                 ]                             \n",
            "                                                                                                  \n",
            " concatenate (Concatenate)   (None, 128, 128, 384)        0         ['up_sampling2d[0][0]',       \n",
            "                                                                     'conv_3[0][0]']              \n",
            "                                                                                                  \n",
            " conv2d_4 (Conv2D)           (None, 128, 128, 128)        442496    ['concatenate[0][0]']         \n",
            "                                                                                                  \n",
            " dropout_4 (Dropout)         (None, 128, 128, 128)        0         ['conv2d_4[0][0]']            \n",
            "                                                                                                  \n",
            " conv_7 (Conv2D)             (None, 128, 128, 128)        147584    ['dropout_4[0][0]']           \n",
            "                                                                                                  \n",
            " batch_normalization_4 (Bat  (None, 128, 128, 128)        512       ['conv_7[0][0]']              \n",
            " chNormalization)                                                                                 \n",
            "                                                                                                  \n",
            " up_sampling2d_1 (UpSamplin  (None, 256, 256, 128)        0         ['batch_normalization_4[0][0]'\n",
            " g2D)                                                               ]                             \n",
            "                                                                                                  \n",
            " concatenate_1 (Concatenate  (None, 256, 256, 192)        0         ['up_sampling2d_1[0][0]',     \n",
            " )                                                                   'conv_2[0][0]']              \n",
            "                                                                                                  \n",
            " conv2d_5 (Conv2D)           (None, 256, 256, 64)         110656    ['concatenate_1[0][0]']       \n",
            "                                                                                                  \n",
            " dropout_5 (Dropout)         (None, 256, 256, 64)         0         ['conv2d_5[0][0]']            \n",
            "                                                                                                  \n",
            " conv_8 (Conv2D)             (None, 256, 256, 64)         36928     ['dropout_5[0][0]']           \n",
            "                                                                                                  \n",
            " batch_normalization_5 (Bat  (None, 256, 256, 64)         256       ['conv_8[0][0]']              \n",
            " chNormalization)                                                                                 \n",
            "                                                                                                  \n",
            " up_sampling2d_2 (UpSamplin  (None, 512, 512, 64)         0         ['batch_normalization_5[0][0]'\n",
            " g2D)                                                               ]                             \n",
            "                                                                                                  \n",
            " concatenate_2 (Concatenate  (None, 512, 512, 96)         0         ['up_sampling2d_2[0][0]',     \n",
            " )                                                                   'conv_1[0][0]']              \n",
            "                                                                                                  \n",
            " conv2d_6 (Conv2D)           (None, 512, 512, 32)         27680     ['concatenate_2[0][0]']       \n",
            "                                                                                                  \n",
            " dropout_6 (Dropout)         (None, 512, 512, 32)         0         ['conv2d_6[0][0]']            \n",
            "                                                                                                  \n",
            " conv_9 (Conv2D)             (None, 512, 512, 32)         9248      ['dropout_6[0][0]']           \n",
            "                                                                                                  \n",
            " batch_normalization_6 (Bat  (None, 512, 512, 32)         128       ['conv_9[0][0]']              \n",
            " chNormalization)                                                                                 \n",
            "                                                                                                  \n",
            " sigmoid (Conv2D)            (None, 512, 512, 1)          33        ['batch_normalization_6[0][0]'\n",
            "                                                                    ]                             \n",
            "                                                                                                  \n",
            "==================================================================================================\n",
            "Total params: 1949121 (7.44 MB)\n",
            "Trainable params: 1947713 (7.43 MB)\n",
            "Non-trainable params: 1408 (5.50 KB)\n",
            "__________________________________________________________________________________________________\n"
          ]
        },
        {
          "output_type": "stream",
          "name": "stderr",
          "text": [
            "/usr/local/lib/python3.10/dist-packages/keras/src/engine/training.py:3000: UserWarning: You are saving your model as an HDF5 file via `model.save()`. This file format is considered legacy. We recommend using instead the native Keras format, e.g. `model.save('my_model.keras')`.\n",
            "  saving_api.save_model(\n"
          ]
        }
      ]
    },
    {
      "cell_type": "code",
      "execution_count": null,
      "metadata": {
        "colab": {
          "base_uri": "https://localhost:8080/",
          "height": 1000
        },
        "id": "euV6eEn8S9iN",
        "outputId": "f7152083-312c-48d7-fab7-ade2bc6a6b02"
      },
      "outputs": [
        {
          "output_type": "stream",
          "name": "stdout",
          "text": [
            "Creating and compiling model...\n",
            "Model: \"model_2\"\n",
            "__________________________________________________________________________________________________\n",
            " Layer (type)                Output Shape                 Param #   Connected to                  \n",
            "==================================================================================================\n",
            " input_3 (InputLayer)        [(None, 512, 512, 1)]        0         []                            \n",
            "                                                                                                  \n",
            " conv2d_14 (Conv2D)          (None, 512, 512, 32)         320       ['input_3[0][0]']             \n",
            "                                                                                                  \n",
            " dropout_14 (Dropout)        (None, 512, 512, 32)         0         ['conv2d_14[0][0]']           \n",
            "                                                                                                  \n",
            " conv_1 (Conv2D)             (None, 512, 512, 32)         9248      ['dropout_14[0][0]']          \n",
            "                                                                                                  \n",
            " pool_1 (MaxPooling2D)       (None, 256, 256, 32)         0         ['conv_1[0][0]']              \n",
            "                                                                                                  \n",
            " batch_normalization_14 (Ba  (None, 256, 256, 32)         128       ['pool_1[0][0]']              \n",
            " tchNormalization)                                                                                \n",
            "                                                                                                  \n",
            " conv2d_15 (Conv2D)          (None, 256, 256, 64)         18496     ['batch_normalization_14[0][0]\n",
            "                                                                    ']                            \n",
            "                                                                                                  \n",
            " dropout_15 (Dropout)        (None, 256, 256, 64)         0         ['conv2d_15[0][0]']           \n",
            "                                                                                                  \n",
            " conv_2 (Conv2D)             (None, 256, 256, 64)         36928     ['dropout_15[0][0]']          \n",
            "                                                                                                  \n",
            " pool_2 (MaxPooling2D)       (None, 128, 128, 64)         0         ['conv_2[0][0]']              \n",
            "                                                                                                  \n",
            " batch_normalization_15 (Ba  (None, 128, 128, 64)         256       ['pool_2[0][0]']              \n",
            " tchNormalization)                                                                                \n",
            "                                                                                                  \n",
            " conv2d_16 (Conv2D)          (None, 128, 128, 128)        73856     ['batch_normalization_15[0][0]\n",
            "                                                                    ']                            \n",
            "                                                                                                  \n",
            " dropout_16 (Dropout)        (None, 128, 128, 128)        0         ['conv2d_16[0][0]']           \n",
            "                                                                                                  \n",
            " conv_3 (Conv2D)             (None, 128, 128, 128)        147584    ['dropout_16[0][0]']          \n",
            "                                                                                                  \n",
            " pool_3 (MaxPooling2D)       (None, 64, 64, 128)          0         ['conv_3[0][0]']              \n",
            "                                                                                                  \n",
            " batch_normalization_16 (Ba  (None, 64, 64, 128)          512       ['pool_3[0][0]']              \n",
            " tchNormalization)                                                                                \n",
            "                                                                                                  \n",
            " conv2d_17 (Conv2D)          (None, 64, 64, 256)          295168    ['batch_normalization_16[0][0]\n",
            "                                                                    ']                            \n",
            "                                                                                                  \n",
            " dropout_17 (Dropout)        (None, 64, 64, 256)          0         ['conv2d_17[0][0]']           \n",
            "                                                                                                  \n",
            " conv_4 (Conv2D)             (None, 64, 64, 256)          590080    ['dropout_17[0][0]']          \n",
            "                                                                                                  \n",
            " batch_normalization_17 (Ba  (None, 64, 64, 256)          1024      ['conv_4[0][0]']              \n",
            " tchNormalization)                                                                                \n",
            "                                                                                                  \n",
            " up_sampling2d_6 (UpSamplin  (None, 128, 128, 256)        0         ['batch_normalization_17[0][0]\n",
            " g2D)                                                               ']                            \n",
            "                                                                                                  \n",
            " concatenate_6 (Concatenate  (None, 128, 128, 384)        0         ['up_sampling2d_6[0][0]',     \n",
            " )                                                                   'conv_3[0][0]']              \n",
            "                                                                                                  \n",
            " conv2d_18 (Conv2D)          (None, 128, 128, 128)        442496    ['concatenate_6[0][0]']       \n",
            "                                                                                                  \n",
            " dropout_18 (Dropout)        (None, 128, 128, 128)        0         ['conv2d_18[0][0]']           \n",
            "                                                                                                  \n",
            " conv_7 (Conv2D)             (None, 128, 128, 128)        147584    ['dropout_18[0][0]']          \n",
            "                                                                                                  \n",
            " batch_normalization_18 (Ba  (None, 128, 128, 128)        512       ['conv_7[0][0]']              \n",
            " tchNormalization)                                                                                \n",
            "                                                                                                  \n",
            " up_sampling2d_7 (UpSamplin  (None, 256, 256, 128)        0         ['batch_normalization_18[0][0]\n",
            " g2D)                                                               ']                            \n",
            "                                                                                                  \n",
            " concatenate_7 (Concatenate  (None, 256, 256, 192)        0         ['up_sampling2d_7[0][0]',     \n",
            " )                                                                   'conv_2[0][0]']              \n",
            "                                                                                                  \n",
            " conv2d_19 (Conv2D)          (None, 256, 256, 64)         110656    ['concatenate_7[0][0]']       \n",
            "                                                                                                  \n",
            " dropout_19 (Dropout)        (None, 256, 256, 64)         0         ['conv2d_19[0][0]']           \n",
            "                                                                                                  \n",
            " conv_8 (Conv2D)             (None, 256, 256, 64)         36928     ['dropout_19[0][0]']          \n",
            "                                                                                                  \n",
            " batch_normalization_19 (Ba  (None, 256, 256, 64)         256       ['conv_8[0][0]']              \n",
            " tchNormalization)                                                                                \n",
            "                                                                                                  \n",
            " up_sampling2d_8 (UpSamplin  (None, 512, 512, 64)         0         ['batch_normalization_19[0][0]\n",
            " g2D)                                                               ']                            \n",
            "                                                                                                  \n",
            " concatenate_8 (Concatenate  (None, 512, 512, 96)         0         ['up_sampling2d_8[0][0]',     \n",
            " )                                                                   'conv_1[0][0]']              \n",
            "                                                                                                  \n",
            " conv2d_20 (Conv2D)          (None, 512, 512, 32)         27680     ['concatenate_8[0][0]']       \n",
            "                                                                                                  \n",
            " dropout_20 (Dropout)        (None, 512, 512, 32)         0         ['conv2d_20[0][0]']           \n",
            "                                                                                                  \n",
            " conv_9 (Conv2D)             (None, 512, 512, 32)         9248      ['dropout_20[0][0]']          \n",
            "                                                                                                  \n",
            " batch_normalization_20 (Ba  (None, 512, 512, 32)         128       ['conv_9[0][0]']              \n",
            " tchNormalization)                                                                                \n",
            "                                                                                                  \n",
            " sigmoid (Conv2D)            (None, 512, 512, 1)          33        ['batch_normalization_20[0][0]\n",
            "                                                                    ']                            \n",
            "                                                                                                  \n",
            "==================================================================================================\n",
            "Total params: 1949121 (7.44 MB)\n",
            "Trainable params: 1947713 (7.43 MB)\n",
            "Non-trainable params: 1408 (5.50 KB)\n",
            "__________________________________________________________________________________________________\n"
          ]
        },
        {
          "output_type": "error",
          "ename": "ValueError",
          "evalue": "ignored",
          "traceback": [
            "\u001b[0;31m---------------------------------------------------------------------------\u001b[0m",
            "\u001b[0;31mValueError\u001b[0m                                Traceback (most recent call last)",
            "\u001b[0;32m<ipython-input-11-f3298dedaeac>\u001b[0m in \u001b[0;36m<cell line: 4>\u001b[0;34m()\u001b[0m\n\u001b[1;32m      2\u001b[0m \u001b[0;31m# Assuming you have defined the model architecture somewhere\u001b[0m\u001b[0;34m\u001b[0m\u001b[0;34m\u001b[0m\u001b[0m\n\u001b[1;32m      3\u001b[0m \u001b[0mprint\u001b[0m\u001b[0;34m(\u001b[0m\u001b[0;34m'Creating and compiling model...'\u001b[0m\u001b[0;34m)\u001b[0m\u001b[0;34m\u001b[0m\u001b[0;34m\u001b[0m\u001b[0m\n\u001b[0;32m----> 4\u001b[0;31m \u001b[0mmodel\u001b[0m \u001b[0;34m=\u001b[0m \u001b[0mget_unet_small\u001b[0m\u001b[0;34m(\u001b[0m\u001b[0;34m)\u001b[0m\u001b[0;34m\u001b[0m\u001b[0;34m\u001b[0m\u001b[0m\n\u001b[0m\u001b[1;32m      5\u001b[0m \u001b[0;34m\u001b[0m\u001b[0m\n\u001b[1;32m      6\u001b[0m \u001b[0;31m# Specify the path to the HDF5 file containing the saved model weights\u001b[0m\u001b[0;34m\u001b[0m\u001b[0;34m\u001b[0m\u001b[0m\n",
            "\u001b[0;32m<ipython-input-10-6f7b5349e1dc>\u001b[0m in \u001b[0;36mget_unet_small\u001b[0;34m()\u001b[0m\n\u001b[1;32m     52\u001b[0m     \u001b[0mmodel\u001b[0m\u001b[0;34m.\u001b[0m\u001b[0mcompile\u001b[0m\u001b[0;34m(\u001b[0m\u001b[0moptimizer\u001b[0m\u001b[0;34m=\u001b[0m\u001b[0;34m'adam'\u001b[0m\u001b[0;34m,\u001b[0m \u001b[0mloss\u001b[0m\u001b[0;34m=\u001b[0m\u001b[0mweighted_dice_coef_loss\u001b[0m\u001b[0;34m,\u001b[0m \u001b[0mmetrics\u001b[0m\u001b[0;34m=\u001b[0m\u001b[0;34m[\u001b[0m\u001b[0mdice_coefficient\u001b[0m\u001b[0;34m]\u001b[0m\u001b[0;34m)\u001b[0m\u001b[0;34m\u001b[0m\u001b[0;34m\u001b[0m\u001b[0m\n\u001b[1;32m     53\u001b[0m \u001b[0;34m\u001b[0m\u001b[0m\n\u001b[0;32m---> 54\u001b[0;31m     \u001b[0moptimizer\u001b[0m \u001b[0;34m=\u001b[0m \u001b[0mAdam\u001b[0m\u001b[0;34m(\u001b[0m\u001b[0mlearning_rate\u001b[0m\u001b[0;34m=\u001b[0m\u001b[0;36m0.00016815389884367667\u001b[0m\u001b[0;34m,\u001b[0m\u001b[0mdecay\u001b[0m\u001b[0;34m=\u001b[0m\u001b[0;36m1e-5\u001b[0m\u001b[0;34m)\u001b[0m\u001b[0;34m\u001b[0m\u001b[0;34m\u001b[0m\u001b[0m\n\u001b[0m\u001b[1;32m     55\u001b[0m     \u001b[0mmodel\u001b[0m\u001b[0;34m.\u001b[0m\u001b[0mcompile\u001b[0m\u001b[0;34m(\u001b[0m\u001b[0moptimizer\u001b[0m\u001b[0;34m=\u001b[0m\u001b[0moptimizer\u001b[0m\u001b[0;34m,\u001b[0m \u001b[0mloss\u001b[0m\u001b[0;34m=\u001b[0m\u001b[0mweighted_dice_coef_loss\u001b[0m\u001b[0;34m,\u001b[0m \u001b[0mmetrics\u001b[0m\u001b[0;34m=\u001b[0m\u001b[0;34m[\u001b[0m\u001b[0;34m'accuracy'\u001b[0m\u001b[0;34m,\u001b[0m \u001b[0mdice_coefficient\u001b[0m\u001b[0;34m]\u001b[0m\u001b[0;34m)\u001b[0m\u001b[0;34m\u001b[0m\u001b[0;34m\u001b[0m\u001b[0m\n\u001b[1;32m     56\u001b[0m \u001b[0;34m\u001b[0m\u001b[0m\n",
            "\u001b[0;32m/usr/local/lib/python3.10/dist-packages/keras/src/optimizers/adam.py\u001b[0m in \u001b[0;36m__init__\u001b[0;34m(self, learning_rate, beta_1, beta_2, epsilon, amsgrad, weight_decay, clipnorm, clipvalue, global_clipnorm, use_ema, ema_momentum, ema_overwrite_frequency, jit_compile, name, **kwargs)\u001b[0m\n\u001b[1;32m    106\u001b[0m         \u001b[0;34m**\u001b[0m\u001b[0mkwargs\u001b[0m\u001b[0;34m\u001b[0m\u001b[0;34m\u001b[0m\u001b[0m\n\u001b[1;32m    107\u001b[0m     ):\n\u001b[0;32m--> 108\u001b[0;31m         super().__init__(\n\u001b[0m\u001b[1;32m    109\u001b[0m             \u001b[0mname\u001b[0m\u001b[0;34m=\u001b[0m\u001b[0mname\u001b[0m\u001b[0;34m,\u001b[0m\u001b[0;34m\u001b[0m\u001b[0;34m\u001b[0m\u001b[0m\n\u001b[1;32m    110\u001b[0m             \u001b[0mweight_decay\u001b[0m\u001b[0;34m=\u001b[0m\u001b[0mweight_decay\u001b[0m\u001b[0;34m,\u001b[0m\u001b[0;34m\u001b[0m\u001b[0;34m\u001b[0m\u001b[0m\n",
            "\u001b[0;32m/usr/local/lib/python3.10/dist-packages/keras/src/optimizers/optimizer.py\u001b[0m in \u001b[0;36m__init__\u001b[0;34m(self, name, weight_decay, clipnorm, clipvalue, global_clipnorm, use_ema, ema_momentum, ema_overwrite_frequency, jit_compile, **kwargs)\u001b[0m\n\u001b[1;32m   1092\u001b[0m         \u001b[0mmesh\u001b[0m \u001b[0;34m=\u001b[0m \u001b[0mkwargs\u001b[0m\u001b[0;34m.\u001b[0m\u001b[0mpop\u001b[0m\u001b[0;34m(\u001b[0m\u001b[0;34m\"mesh\"\u001b[0m\u001b[0;34m,\u001b[0m \u001b[0;32mNone\u001b[0m\u001b[0;34m)\u001b[0m\u001b[0;34m\u001b[0m\u001b[0;34m\u001b[0m\u001b[0m\n\u001b[1;32m   1093\u001b[0m         \u001b[0mself\u001b[0m\u001b[0;34m.\u001b[0m\u001b[0m_mesh\u001b[0m \u001b[0;34m=\u001b[0m \u001b[0mmesh\u001b[0m\u001b[0;34m\u001b[0m\u001b[0;34m\u001b[0m\u001b[0m\n\u001b[0;32m-> 1094\u001b[0;31m         super().__init__(\n\u001b[0m\u001b[1;32m   1095\u001b[0m             \u001b[0mname\u001b[0m\u001b[0;34m,\u001b[0m\u001b[0;34m\u001b[0m\u001b[0;34m\u001b[0m\u001b[0m\n\u001b[1;32m   1096\u001b[0m             \u001b[0mweight_decay\u001b[0m\u001b[0;34m,\u001b[0m\u001b[0;34m\u001b[0m\u001b[0;34m\u001b[0m\u001b[0m\n",
            "\u001b[0;32m/usr/local/lib/python3.10/dist-packages/keras/src/optimizers/optimizer.py\u001b[0m in \u001b[0;36m__init__\u001b[0;34m(self, name, weight_decay, clipnorm, clipvalue, global_clipnorm, use_ema, ema_momentum, ema_overwrite_frequency, jit_compile, **kwargs)\u001b[0m\n\u001b[1;32m    104\u001b[0m         \u001b[0mself\u001b[0m\u001b[0;34m.\u001b[0m\u001b[0m_variables\u001b[0m \u001b[0;34m=\u001b[0m \u001b[0;34m[\u001b[0m\u001b[0;34m]\u001b[0m\u001b[0;34m\u001b[0m\u001b[0;34m\u001b[0m\u001b[0m\n\u001b[1;32m    105\u001b[0m         \u001b[0mself\u001b[0m\u001b[0;34m.\u001b[0m\u001b[0m_create_iteration_variable\u001b[0m\u001b[0;34m(\u001b[0m\u001b[0;34m)\u001b[0m\u001b[0;34m\u001b[0m\u001b[0;34m\u001b[0m\u001b[0m\n\u001b[0;32m--> 106\u001b[0;31m         \u001b[0mself\u001b[0m\u001b[0;34m.\u001b[0m\u001b[0m_process_kwargs\u001b[0m\u001b[0;34m(\u001b[0m\u001b[0mkwargs\u001b[0m\u001b[0;34m)\u001b[0m\u001b[0;34m\u001b[0m\u001b[0;34m\u001b[0m\u001b[0m\n\u001b[0m\u001b[1;32m    107\u001b[0m \u001b[0;34m\u001b[0m\u001b[0m\n\u001b[1;32m    108\u001b[0m     \u001b[0;32mdef\u001b[0m \u001b[0m_create_iteration_variable\u001b[0m\u001b[0;34m(\u001b[0m\u001b[0mself\u001b[0m\u001b[0;34m)\u001b[0m\u001b[0;34m:\u001b[0m\u001b[0;34m\u001b[0m\u001b[0;34m\u001b[0m\u001b[0m\n",
            "\u001b[0;32m/usr/local/lib/python3.10/dist-packages/keras/src/optimizers/optimizer.py\u001b[0m in \u001b[0;36m_process_kwargs\u001b[0;34m(self, kwargs)\u001b[0m\n\u001b[1;32m    133\u001b[0m         \u001b[0;32mfor\u001b[0m \u001b[0mk\u001b[0m \u001b[0;32min\u001b[0m \u001b[0mkwargs\u001b[0m\u001b[0;34m:\u001b[0m\u001b[0;34m\u001b[0m\u001b[0;34m\u001b[0m\u001b[0m\n\u001b[1;32m    134\u001b[0m             \u001b[0;32mif\u001b[0m \u001b[0mk\u001b[0m \u001b[0;32min\u001b[0m \u001b[0mlegacy_kwargs\u001b[0m\u001b[0;34m:\u001b[0m\u001b[0;34m\u001b[0m\u001b[0;34m\u001b[0m\u001b[0m\n\u001b[0;32m--> 135\u001b[0;31m                 raise ValueError(\n\u001b[0m\u001b[1;32m    136\u001b[0m                     \u001b[0;34mf\"{k} is deprecated in the new Keras optimizer, please \"\u001b[0m\u001b[0;34m\u001b[0m\u001b[0;34m\u001b[0m\u001b[0m\n\u001b[1;32m    137\u001b[0m                     \u001b[0;34m\"check the docstring for valid arguments, or use the \"\u001b[0m\u001b[0;34m\u001b[0m\u001b[0;34m\u001b[0m\u001b[0m\n",
            "\u001b[0;31mValueError\u001b[0m: decay is deprecated in the new Keras optimizer, please check the docstring for valid arguments, or use the legacy optimizer, e.g., tf.keras.optimizers.legacy.Adam."
          ]
        }
      ],
      "source": [
        "\n",
        "\n",
        "# Load the model architecture and create the model object (if needed)\n",
        "# Assuming you have defined the model architecture somewhere\n",
        "print('Creating and compiling model...')\n",
        "model = get_unet_small()\n",
        "\n",
        "# Specify the path to the HDF5 file containing the saved model weights\n",
        "weights_path = '/content/drive/MyDrive/LUNA16/U-netModel_hyperparameter_tuning_0.00016815389884367667.hdf5'\n",
        "\n",
        "# Load the model weights from the HDF5 file\n",
        "model.load_weights(weights_path)\n",
        "\n",
        "print(\"Done\")\n"
      ]
    },
    {
      "cell_type": "code",
      "source": [
        "model.save(\"/content/drive/MyDrive/LUNA16/u_net.h5\")"
      ],
      "metadata": {
        "id": "97kRquGYyra8"
      },
      "execution_count": null,
      "outputs": []
    },
    {
      "cell_type": "code",
      "execution_count": null,
      "metadata": {
        "colab": {
          "base_uri": "https://localhost:8080/"
        },
        "id": "ck4SHqPdTPFf",
        "outputId": "dbb0a25e-41a5-42e2-bea0-bfafc0d6b415"
      },
      "outputs": [
        {
          "name": "stdout",
          "output_type": "stream",
          "text": [
            "Start loading test set\n",
            "Finish loading test set\n",
            "Start transpose test set\n",
            "Finish transpose test set\n"
          ]
        }
      ],
      "source": [
        "# Step 2: Load the test images and masks\n",
        "print(\"Start loading test set\")\n",
        "# Load and preprocess test data\n",
        "test_images = np.load('/content/drive/MyDrive/LUNA16/testImages.npy').astype(np.float16)\n",
        "test_masks = np.load('/content/drive/MyDrive/LUNA16/testMasks.npy').astype(np.float16)\n",
        "print(\"Finish loading test set\")\n",
        "\n",
        "# Step 3: Preprocess the test images (you might need to adapt this based on your preprocessing steps during training)\n",
        "print(\"Start transpose test set\")\n",
        "test_images = test_images.transpose(0, 2, 3, 1)\n",
        "test_masks = test_masks.transpose(0, 2, 3, 1)\n",
        "test_masks[test_masks > 0] = 1.0\n",
        "print(\"Finish transpose test set\")\n",
        "\n"
      ]
    },
    {
      "cell_type": "code",
      "execution_count": null,
      "metadata": {
        "colab": {
          "background_save": true,
          "base_uri": "https://localhost:8080/"
        },
        "id": "G0oZ6A3kTRQG",
        "outputId": "e5420a0d-4d84-467d-af2b-bde994341a73"
      },
      "outputs": [
        {
          "name": "stdout",
          "output_type": "stream",
          "text": [
            "21/21 [==============================] - 14s 705ms/step\n",
            "Y_pred_binary :  (647, 512, 512, 1)\n",
            "filtered_pred_binary :  (647, 512, 512, 1)\n",
            "Generating report ... \n",
            "Start time :  02:56 PM\n",
            "Accuracy: 99.55 %\n",
            "End time :  03:31 PM\n",
            "Filtered Classification Report:\n",
            "              precision    recall  f1-score   support\n",
            "\n",
            "         0.0       1.00      1.00      1.00 165203890\n",
            "         1.0       0.95      0.87      0.91   4403278\n",
            "\n",
            "    accuracy                           1.00 169607168\n",
            "   macro avg       0.97      0.94      0.95 169607168\n",
            "weighted avg       1.00      1.00      1.00 169607168\n",
            "\n"
          ]
        }
      ],
      "source": [
        "\n",
        "from skimage.measure import label, regionprops\n",
        "from sklearn.metrics import accuracy_score, confusion_matrix, classification_report\n",
        "from datetime import datetime\n",
        "import numpy as np\n",
        "from sklearn.metrics import accuracy_score, confusion_matrix\n",
        "import pytz\n",
        "\n",
        "# Specify the Malaysia time zone\n",
        "malaysia_time_zone = pytz.timezone('Asia/Kuala_Lumpur')\n",
        "\n",
        "y_pred = model.predict(test_images)\n",
        "y_pred_binary = (y_pred > 0.5).astype(np.float16)\n",
        "\n",
        "print(\"Y_pred_binary : \", y_pred_binary.shape)\n",
        "# Define your min and max size thresholds\n",
        "min_size = 600\n",
        "\n",
        "\n",
        "# Initialize an array for filtered binary predictions\n",
        "filtered_pred_binary = np.zeros_like(y_pred_binary)\n",
        "\n",
        "for i in range(len(y_pred_binary)):\n",
        "    labeled_regions = label(y_pred_binary[i])\n",
        "\n",
        "    region_props = regionprops(labeled_regions)\n",
        "    for region in region_props:\n",
        "        region_area = region.area\n",
        "        if min_size <= region_area :\n",
        "            filtered_pred_binary[i][labeled_regions == region.label] = 1\n",
        "print(\"filtered_pred_binary : \", filtered_pred_binary.shape)\n",
        "print(\"Generating report ... \")\n",
        "\n",
        "\n",
        "start_time = datetime.now(malaysia_time_zone)\n",
        "start_formatted_time = start_time.strftime(\"%I:%M %p\")\n",
        "print(\"Start time : \", start_formatted_time)\n",
        "# Evaluate the filtered predictions using appropriate metrics\n",
        "filtered_classification_rep = classification_report(test_masks.flatten(), filtered_pred_binary.flatten())\n",
        "end_time = datetime.now(malaysia_time_zone)\n",
        "end_formatted_time = end_time.strftime(\"%I:%M %p\")\n",
        "\n",
        "accuracy = accuracy_score(test_masks.flatten(), filtered_pred_binary.flatten())\n",
        "accuracy_percentage = accuracy * 100  # Convert accuracy to percentage\n",
        "\n",
        "# Format and print the accuracy as a percentage with two decimal places\n",
        "formatted_accuracy = \"{:.2f}\".format(accuracy_percentage)\n",
        "print(\"Accuracy:\", formatted_accuracy, \"%\")\n",
        "\n",
        "print(\"End time : \" , end_formatted_time)\n",
        "# Print the metrics for filtered predictions\n",
        "print(\"Filtered Classification Report:\")\n",
        "print(filtered_classification_rep)\n"
      ]
    },
    {
      "cell_type": "code",
      "execution_count": null,
      "metadata": {
        "colab": {
          "base_uri": "https://localhost:8080/",
          "height": 578
        },
        "id": "OSeZJTpxcNJ7",
        "outputId": "fbb8aa32-257f-4268-ef89-98972b197921"
      },
      "outputs": [
        {
          "output_type": "display_data",
          "data": {
            "text/plain": [
              "<Figure size 800x600 with 1 Axes>"
            ],
            "image/png": "[encoded data removed]"
          },
          "metadata": {}
        }
      ],
      "source": [
        "import numpy as np\n",
        "import matplotlib.pyplot as plt\n",
        "import seaborn as sns\n",
        "from sklearn.metrics import confusion_matrix\n",
        "# Calculate the confusion matrix\n",
        "confusion = confusion_matrix(test_masks.flatten(), filtered_pred_binary.flatten())\n",
        "\n",
        "# Plot the confusion matrix as a heatmap with custom colors\n",
        "plt.figure(figsize=(8, 6))\n",
        "sns.set(font_scale=1.2)\n",
        "sns.heatmap(confusion, annot=True, fmt=\"d\", cmap=\"Reds\", cbar=False,\n",
        "            xticklabels=[\"Class 0\", \"Class 1\"], yticklabels=[\"Class 0\", \"Class 1\"])\n",
        "plt.xlabel(\"Predicted\")\n",
        "plt.ylabel(\"True\")\n",
        "plt.title(\"Confusion Matrix\")\n",
        "plt.show()\n",
        "\n"
      ]
    },
    {
      "cell_type": "code",
      "execution_count": null,
      "metadata": {
        "colab": {
          "base_uri": "https://localhost:8080/"
        },
        "id": "h76GtPa7T_Z9",
        "outputId": "352b1989-612e-4c0e-d226-e345af35800f"
      },
      "outputs": [
        {
          "name": "stdout",
          "output_type": "stream",
          "text": [
            "Sensitivity: 0.7872\n",
            "Specificity: 0.9988\n"
          ]
        }
      ],
      "source": [
        "# Extract values from the confusion matrix\n",
        "TN, FP, FN, TP = confusion.ravel()\n",
        "\n",
        "# Calculate sensitivity (True Positive Rate or Recall)\n",
        "sensitivity = TP / (TP + FN)\n",
        "specificity = TN / (TN + FP)\n",
        "# Print the sensitivity value\n",
        "print(f\"Sensitivity: {sensitivity:.4f}\")\n",
        "print(f\"Specificity: {specificity:.4f}\")\n"
      ]
    },
    {
      "cell_type": "code",
      "execution_count": null,
      "metadata": {
        "id": "5UeOZRrdTdlH"
      },
      "outputs": [],
      "source": [
        "import cv2\n",
        "import matplotlib.pyplot as plt\n",
        "\n",
        "for i in range(len(test_images)):\n",
        "    image = test_images[i, ..., 0]  # Extract the first channel (assuming single-channel images)\n",
        "    mask = filtered_pred_binary[i, ..., 0]  # Use filtered predictions\n",
        "    test_mask = test_masks[i, ..., 0]\n",
        "\n",
        "    # Convert the mask to the appropriate data type (CV_8UC1)\n",
        "    mask = (mask * 255).astype(np.uint8)\n",
        "\n",
        "    # Use OpenCV to find contours in the binary mask (detected nodules)\n",
        "    contours, _ = cv2.findContours(mask, cv2.RETR_EXTERNAL, cv2.CHAIN_APPROX_SIMPLE)\n",
        "\n",
        "    # Convert the image to the appropriate data type and rescale values for proper display\n",
        "    image_with_circles = (image * 255).astype(np.uint8)\n",
        "\n",
        "    # Convert the grayscale image to RGB format\n",
        "    image_with_circles = cv2.cvtColor(image_with_circles, cv2.COLOR_GRAY2RGB)\n",
        "\n",
        "    # Draw circles around detected nodules on the original image\n",
        "    for contour in contours:\n",
        "        (x, y), radius = cv2.minEnclosingCircle(contour)\n",
        "        center = (int(x), int(y))\n",
        "        radius = int(radius)\n",
        "        cv2.circle(image_with_circles, center, radius, (255, 0, 0), 2)  # Change the color to red (BGR: Blue, Green, Red)\n",
        "\n",
        "    # Plot the image with circles and the test mask\n",
        "    plt.figure(figsize=(12, 6))\n",
        "\n",
        "    plt.subplot(1, 2, 1)\n",
        "    plt.imshow(image_with_circles)\n",
        "    plt.title(f\"Test Image {i + 1} with Detected Nodules\")\n",
        "    plt.axis('off')\n",
        "\n",
        "    plt.subplot(1, 2, 2)\n",
        "    plt.imshow(test_mask, cmap='gray')\n",
        "    plt.title(f\"Test Mask {i + 1}\")\n",
        "    plt.axis('off')\n",
        "\n",
        "    plt.tight_layout()\n",
        "    plt.show()"
      ]
    }
  ],
  "metadata": {
    "accelerator": "GPU",
    "colab": {
      "provenance": []
    },
    "kernelspec": {
      "display_name": "Python 3",
      "name": "python3"
    },
    "language_info": {
      "name": "python"
    }
  },
  "nbformat": 4,
  "nbformat_minor": 0
}